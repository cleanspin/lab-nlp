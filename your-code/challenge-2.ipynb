{
 "cells": [
  {
   "cell_type": "markdown",
   "metadata": {},
   "source": [
    "# Challenge 2: Sentiment Analysis\n",
    "\n",
    "In this challenge we will learn sentiment analysis and practice performing sentiment analysis on Twitter tweets. \n",
    "\n",
    "## Introduction\n",
    "\n",
    "Sentiment analysis is to *systematically identify, extract, quantify, and study affective states and subjective information* based on texts ([reference](https://en.wikipedia.org/wiki/Sentiment_analysis)). In simple words, it's to understand whether a person is happy or unhappy in producing the piece of text. Why we (or rather, companies) care about sentiment in texts? It's because by understanding the sentiments in texts, we will be able to know if our customers are happy or unhappy about our products and services. If they are unhappy, the subsequent action is to figure out what have caused the unhappiness and make improvements.\n",
    "\n",
    "Basic sentiment analysis only understands the *positive* or *negative* (sometimes *neutral* too) polarities of the sentiment. More advanced sentiment analysis will also consider dimensions such as agreement, subjectivity, confidence, irony, and so on. In this challenge we will conduct the basic positive vs negative sentiment analysis based on real Twitter tweets.\n",
    "\n",
    "NLTK comes with a [sentiment analysis package](https://www.nltk.org/api/nltk.sentiment.html). This package is great for dummies to perform sentiment analysis because it requires only the textual data to make predictions. For example:\n",
    "\n",
    "```python\n",
    ">>> from nltk.sentiment.vader import SentimentIntensityAnalyzer\n",
    ">>> txt = \"Ironhack is a Global Tech School ranked num 2 worldwide.  ",
    " ",
    "Our mission is to help people transform their careers and join a thriving community of tech professionals that love what they do.\"\n",
    ">>> analyzer = SentimentIntensityAnalyzer()\n",
    ">>> analyzer.polarity_scores(txt)\n",
    "{'neg': 0.0, 'neu': 0.741, 'pos': 0.259, 'compound': 0.8442}\n",
    "```\n",
    "\n",
    "In this challenge, however, you will not use NLTK's sentiment analysis package because in your Machine Learning training in the past 2 weeks you have learned how to make predictions more accurate than that. The [tweets data](https://www.kaggle.com/kazanova/sentiment140) we will be using today are already coded for the positive/negative sentiment. You will be able to use the Naïve Bayes classifier you learned in the lesson to predict the sentiment of tweets based on the labels."
   ]
  },
  {
   "cell_type": "markdown",
   "metadata": {},
   "source": [
    "## Conducting Sentiment Analysis\n",
    "\n",
    "### Loading and Exploring Data\n",
    "\n",
    "The dataset we'll be using today is located in the lab directory named `Sentiment140.csv.zip`. You need to unzip it into a `.csv` file. Then in the cell below, load and explore the data.\n",
    "\n",
    "*Notes:* \n",
    "\n",
    "* The dataset was downloaded from [Kaggle](https://www.kaggle.com/kazanova/sentiment140). We made a slight change on the original data so that each column has a label.\n",
    "\n",
    "* The dataset is huuuuge (1.6m tweets). When you develop your data analysis codes, you can sample a subset of the data (e.g. 20k records) so that you will save a lot of time when you test your codes."
   ]
  },
  {
   "cell_type": "code",
   "execution_count": 66,
   "metadata": {},
   "outputs": [],
   "source": [
    "import pandas as pd\n",
    "import numpy as np\n",
    "import nltk\n",
    "from nltk.tokenize import word_tokenize\n",
    "from nltk.stem import PorterStemmer \n",
    "from nltk.stem.snowball import SnowballStemmer\n",
    "from nltk.stem import WordNetLemmatizer \n",
    "from nltk.corpus import stopwords\n",
    "#from textblob import TextBlob\n",
    "from sklearn.feature_extraction.text import CountVectorizer\n",
    "from sklearn.feature_extraction.text import TfidfVectorizer\n",
    "import re"
   ]
  },
  {
   "cell_type": "code",
   "execution_count": 42,
   "metadata": {},
   "outputs": [],
   "source": [
    "tweets = pd.read_csv('../data/training.1600000.processed.noemoticon.csv', encoding='latin1', header=None).sample(20000)"
   ]
  },
  {
   "cell_type": "code",
   "execution_count": 50,
   "metadata": {},
   "outputs": [],
   "source": [
    "tweets.rename(columns = {0:'target', 1:'id', 2:'date', 3:'flag', 4:'user', 5:'text'}, inplace = True)"
   ]
  },
  {
   "cell_type": "code",
   "execution_count": 51,
   "metadata": {},
   "outputs": [
    {
     "data": {
      "text/plain": [
       "(20000, 6)"
      ]
     },
     "execution_count": 51,
     "metadata": {},
     "output_type": "execute_result"
    }
   ],
   "source": [
    "tweets.shape"
   ]
  },
  {
   "cell_type": "code",
   "execution_count": 52,
   "metadata": {},
   "outputs": [
    {
     "data": {
      "text/html": [
       "<div>\n",
       "<style scoped>\n",
       "    .dataframe tbody tr th:only-of-type {\n",
       "        vertical-align: middle;\n",
       "    }\n",
       "\n",
       "    .dataframe tbody tr th {\n",
       "        vertical-align: top;\n",
       "    }\n",
       "\n",
       "    .dataframe thead th {\n",
       "        text-align: right;\n",
       "    }\n",
       "</style>\n",
       "<table border=\"1\" class=\"dataframe\">\n",
       "  <thead>\n",
       "    <tr style=\"text-align: right;\">\n",
       "      <th></th>\n",
       "      <th>target</th>\n",
       "      <th>id</th>\n",
       "      <th>date</th>\n",
       "      <th>flag</th>\n",
       "      <th>user</th>\n",
       "      <th>text</th>\n",
       "    </tr>\n",
       "  </thead>\n",
       "  <tbody>\n",
       "    <tr>\n",
       "      <th>741768</th>\n",
       "      <td>0</td>\n",
       "      <td>2266358288</td>\n",
       "      <td>Sun Jun 21 08:22:04 PDT 2009</td>\n",
       "      <td>NO_QUERY</td>\n",
       "      <td>Terranova3y2</td>\n",
       "      <td>why do MMO's take up so much space</td>\n",
       "    </tr>\n",
       "    <tr>\n",
       "      <th>1153170</th>\n",
       "      <td>4</td>\n",
       "      <td>1978794446</td>\n",
       "      <td>Sun May 31 00:29:38 PDT 2009</td>\n",
       "      <td>NO_QUERY</td>\n",
       "      <td>zem42</td>\n",
       "      <td>@mactavish i learnt the word &amp;quot;mariachi&amp;qu...</td>\n",
       "    </tr>\n",
       "    <tr>\n",
       "      <th>732851</th>\n",
       "      <td>0</td>\n",
       "      <td>2264163356</td>\n",
       "      <td>Sun Jun 21 02:59:33 PDT 2009</td>\n",
       "      <td>NO_QUERY</td>\n",
       "      <td>life_afairytale</td>\n",
       "      <td>Mp pet results to be declared today evening or...</td>\n",
       "    </tr>\n",
       "    <tr>\n",
       "      <th>1510924</th>\n",
       "      <td>4</td>\n",
       "      <td>2175023888</td>\n",
       "      <td>Sun Jun 14 23:53:51 PDT 2009</td>\n",
       "      <td>NO_QUERY</td>\n",
       "      <td>anderla</td>\n",
       "      <td>Just chillin at work for now. Off three days t...</td>\n",
       "    </tr>\n",
       "    <tr>\n",
       "      <th>908839</th>\n",
       "      <td>4</td>\n",
       "      <td>1750998921</td>\n",
       "      <td>Sat May 09 18:25:33 PDT 2009</td>\n",
       "      <td>NO_QUERY</td>\n",
       "      <td>captainsmash</td>\n",
       "      <td>&amp;quot;you can ride one, you can catch one, but...</td>\n",
       "    </tr>\n",
       "  </tbody>\n",
       "</table>\n",
       "</div>"
      ],
      "text/plain": [
       "         target          id                          date      flag  \\\n",
       "741768        0  2266358288  Sun Jun 21 08:22:04 PDT 2009  NO_QUERY   \n",
       "1153170       4  1978794446  Sun May 31 00:29:38 PDT 2009  NO_QUERY   \n",
       "732851        0  2264163356  Sun Jun 21 02:59:33 PDT 2009  NO_QUERY   \n",
       "1510924       4  2175023888  Sun Jun 14 23:53:51 PDT 2009  NO_QUERY   \n",
       "908839        4  1750998921  Sat May 09 18:25:33 PDT 2009  NO_QUERY   \n",
       "\n",
       "                    user                                               text  \n",
       "741768      Terranova3y2                why do MMO's take up so much space   \n",
       "1153170            zem42  @mactavish i learnt the word &quot;mariachi&qu...  \n",
       "732851   life_afairytale  Mp pet results to be declared today evening or...  \n",
       "1510924          anderla  Just chillin at work for now. Off three days t...  \n",
       "908839      captainsmash  &quot;you can ride one, you can catch one, but...  "
      ]
     },
     "execution_count": 52,
     "metadata": {},
     "output_type": "execute_result"
    }
   ],
   "source": [
    "tweets.sample(5)"
   ]
  },
  {
   "cell_type": "markdown",
   "metadata": {},
   "source": [
    "### Prepare Textual Data for Sentiment Analysis\n",
    "\n",
    "Now, apply the functions you have written in Challenge 1 to your whole data set. These functions include:\n",
    "\n",
    "* `clean_up()`\n",
    "\n",
    "* `tokenize()`\n",
    "\n",
    "* `stem_and_lemmatize()`\n",
    "\n",
    "* `remove_stopwords()`\n",
    "\n",
    "Create a new column called `text_processed` in the dataframe to contain the processed data. At the end, your `text_processed` column should contain lists of word tokens that are cleaned up. Your data should look like below:\n",
    "\n",
    "![Processed Data](data-cleaning-results.png)"
   ]
  },
  {
   "cell_type": "code",
   "execution_count": 82,
   "metadata": {},
   "outputs": [],
   "source": [
    "# your code here\n",
    "def clean_up(s):\n",
    "    \"\"\"\n",
    "    Cleans up numbers, URLs, and special characters from a string.\n",
    "\n",
    "    Args:\n",
    "        s: The string to be cleaned up.\n",
    "\n",
    "    Returns:\n",
    "        A string that has been cleaned up.\n",
    "    \"\"\"\n",
    "    \n",
    "    return re.sub('http://.*|[^A-Za-z ]+', ' ', s).lower()\n",
    "\n",
    "def tokenize(s):\n",
    "    \"\"\"\n",
    "    Tokenize a string.\n",
    "\n",
    "    Args:\n",
    "        s: String to be tokenized.\n",
    "\n",
    "    Returns:\n",
    "        A list of words as the result of tokenization.\n",
    "    \"\"\"\n",
    "    return word_tokenize(s)\n",
    "\n",
    "def stem_and_lemmatize(l):\n",
    "    \"\"\"\n",
    "    Perform stemming and lemmatization on a list of words.\n",
    "\n",
    "    Args:\n",
    "        l: A list of strings.\n",
    "\n",
    "    Returns:\n",
    "        A list of strings after being stemmed and lemmatized.\n",
    "    \"\"\"\n",
    "    ps = PorterStemmer ()\n",
    "    lemmatizer = WordNetLemmatizer()\n",
    "    result = [ps.stem(lemmatizer.lemmatize(word)) for word in l]    \n",
    "    return result\n",
    "\n",
    "def remove_stopwords(l):\n",
    "    \"\"\"\n",
    "    Remove English stopwords from a list of strings.\n",
    "\n",
    "    Args:\n",
    "        l: A list of strings.\n",
    "\n",
    "    Returns:\n",
    "        A list of strings after stop words are removed.\n",
    "    \"\"\"\n",
    "    \n",
    "    s_w = stopwords.words('english')\n",
    "    \n",
    "    return [w for w in l if w not in s_w]\n",
    "\n",
    "def treat_text(s):\n",
    "    return remove_stopwords(stem_and_lemmatize(tokenize(clean_up(s))))\n"
   ]
  },
  {
   "cell_type": "code",
   "execution_count": 83,
   "metadata": {},
   "outputs": [
    {
     "data": {
      "text/html": [
       "<div>\n",
       "<style scoped>\n",
       "    .dataframe tbody tr th:only-of-type {\n",
       "        vertical-align: middle;\n",
       "    }\n",
       "\n",
       "    .dataframe tbody tr th {\n",
       "        vertical-align: top;\n",
       "    }\n",
       "\n",
       "    .dataframe thead th {\n",
       "        text-align: right;\n",
       "    }\n",
       "</style>\n",
       "<table border=\"1\" class=\"dataframe\">\n",
       "  <thead>\n",
       "    <tr style=\"text-align: right;\">\n",
       "      <th></th>\n",
       "      <th>target</th>\n",
       "      <th>id</th>\n",
       "      <th>date</th>\n",
       "      <th>flag</th>\n",
       "      <th>user</th>\n",
       "      <th>text</th>\n",
       "      <th>text_processed</th>\n",
       "    </tr>\n",
       "  </thead>\n",
       "  <tbody>\n",
       "    <tr>\n",
       "      <th>172790</th>\n",
       "      <td>0</td>\n",
       "      <td>1963727501</td>\n",
       "      <td>Fri May 29 13:09:28 PDT 2009</td>\n",
       "      <td>NO_QUERY</td>\n",
       "      <td>kit_kat1990</td>\n",
       "      <td>@hollie__ Aww bless her. She's one of my faves</td>\n",
       "      <td>[holli, aww, bless, one, fave]</td>\n",
       "    </tr>\n",
       "    <tr>\n",
       "      <th>617792</th>\n",
       "      <td>0</td>\n",
       "      <td>2227218155</td>\n",
       "      <td>Thu Jun 18 12:55:26 PDT 2009</td>\n",
       "      <td>NO_QUERY</td>\n",
       "      <td>DottieDuncan</td>\n",
       "      <td>@jmatic4 ahhh I forgot about the staff meeting...</td>\n",
       "      <td>[jmatic, ahhh, forgot, staff, meet, mention, c...</td>\n",
       "    </tr>\n",
       "    <tr>\n",
       "      <th>91432</th>\n",
       "      <td>0</td>\n",
       "      <td>1759530319</td>\n",
       "      <td>Sun May 10 19:25:02 PDT 2009</td>\n",
       "      <td>NO_QUERY</td>\n",
       "      <td>SimpliBeautyful</td>\n",
       "      <td>This mothers day is starting to suck really bad</td>\n",
       "      <td>[thi, mother, day, start, suck, realli, bad]</td>\n",
       "    </tr>\n",
       "    <tr>\n",
       "      <th>1577265</th>\n",
       "      <td>4</td>\n",
       "      <td>2189657334</td>\n",
       "      <td>Tue Jun 16 00:34:10 PDT 2009</td>\n",
       "      <td>NO_QUERY</td>\n",
       "      <td>Somebody32</td>\n",
       "      <td>@eugenebolshakov if anyone would be interested</td>\n",
       "      <td>[eugenebolshakov, anyon, would, interest]</td>\n",
       "    </tr>\n",
       "    <tr>\n",
       "      <th>1226054</th>\n",
       "      <td>4</td>\n",
       "      <td>1990781976</td>\n",
       "      <td>Mon Jun 01 05:43:50 PDT 2009</td>\n",
       "      <td>NO_QUERY</td>\n",
       "      <td>HOTTVampChick</td>\n",
       "      <td>@PandaMayhem I did see u askin him somethin bo...</td>\n",
       "      <td>[pandamayhem, see, u, askin, somethin, bout, d...</td>\n",
       "    </tr>\n",
       "  </tbody>\n",
       "</table>\n",
       "</div>"
      ],
      "text/plain": [
       "         target          id                          date      flag  \\\n",
       "172790        0  1963727501  Fri May 29 13:09:28 PDT 2009  NO_QUERY   \n",
       "617792        0  2227218155  Thu Jun 18 12:55:26 PDT 2009  NO_QUERY   \n",
       "91432         0  1759530319  Sun May 10 19:25:02 PDT 2009  NO_QUERY   \n",
       "1577265       4  2189657334  Tue Jun 16 00:34:10 PDT 2009  NO_QUERY   \n",
       "1226054       4  1990781976  Mon Jun 01 05:43:50 PDT 2009  NO_QUERY   \n",
       "\n",
       "                    user                                               text  \\\n",
       "172790       kit_kat1990    @hollie__ Aww bless her. She's one of my faves    \n",
       "617792      DottieDuncan  @jmatic4 ahhh I forgot about the staff meeting...   \n",
       "91432    SimpliBeautyful   This mothers day is starting to suck really bad    \n",
       "1577265       Somebody32    @eugenebolshakov if anyone would be interested    \n",
       "1226054    HOTTVampChick  @PandaMayhem I did see u askin him somethin bo...   \n",
       "\n",
       "                                            text_processed  \n",
       "172790                      [holli, aww, bless, one, fave]  \n",
       "617792   [jmatic, ahhh, forgot, staff, meet, mention, c...  \n",
       "91432         [thi, mother, day, start, suck, realli, bad]  \n",
       "1577265          [eugenebolshakov, anyon, would, interest]  \n",
       "1226054  [pandamayhem, see, u, askin, somethin, bout, d...  "
      ]
     },
     "execution_count": 83,
     "metadata": {},
     "output_type": "execute_result"
    }
   ],
   "source": [
    "tweets['text_processed'] = tweets.text.apply(treat_text)\n",
    "tweets.sample(5)"
   ]
  },
  {
   "cell_type": "markdown",
   "metadata": {},
   "source": [
    "### Creating Bag of Words\n",
    "\n",
    "The purpose of this step is to create a [bag of words](https://en.wikipedia.org/wiki/Bag-of-words_model) from the processed data. The bag of words contains all the unique words in your whole text body (a.k.a. *corpus*) with the number of occurrence of each word. It will allow you to understand which words are the most important features across the whole corpus.\n",
    "\n",
    "Also, you can imagine you will have a massive set of words. The less important words (i.e. those of very low number of occurrence) do not contribute much to the sentiment. Therefore, you only need to use the most important words to build your feature set in the next step. In our case, we will use the top 5,000 words with the highest frequency to build the features.\n",
    "\n",
    "In the cell below, combine all the words in `text_processed` and calculate the frequency distribution of all words. A convenient library to calculate the term frequency distribution is NLTK's `FreqDist` class ([documentation](https://www.nltk.org/api/nltk.html#module-nltk.probability)). Then select the top 5,000 words from the frequency distribution."
   ]
  },
  {
   "cell_type": "code",
   "execution_count": 84,
   "metadata": {},
   "outputs": [],
   "source": [
    "# your code here\n",
    "words = [w for l in tweets.text_processed for w in l]\n",
    "fdist = nltk.FreqDist(words)\n",
    "mc = [fdist.most_common(5000)[i][0] for i in range(5000)]"
   ]
  },
  {
   "cell_type": "markdown",
   "metadata": {},
   "source": [
    "### Building Features\n",
    "\n",
    "Now let's build the features. Using the top 5,000 words, create a 2-dimensional matrix to record whether each of those words is contained in each document (tweet). Then you also have an output column to indicate whether the sentiment in each tweet is positive. For example, assuming your bag of words has 5 items (`['one', 'two', 'three', 'four', 'five']`) out of 4 documents (`['A', 'B', 'C', 'D']`), your feature set is essentially:\n",
    "\n",
    "| Doc | one | two | three | four | five | is_positive |\n",
    "|---|---|---|---|---|---|---|\n",
    "| A | True | False | False | True | False | True |\n",
    "| B | False | False | False | True | True | False |\n",
    "| C | False | True | False | False | False | True |\n",
    "| D | True | False | False | False | True | False|\n",
    "\n",
    "However, because the `nltk.NaiveBayesClassifier.train` class we will use in the next step does not work with Pandas dataframe, the structure of your feature set should be converted to the Python list looking like below:\n",
    "\n",
    "```python\n",
    "[\n",
    "\t({\n",
    "\t\t'one': True,\n",
    "\t\t'two': False,\n",
    "\t\t'three': False,\n",
    "\t\t'four': True,\n",
    "\t\t'five': False\n",
    "\t}, True),\n",
    "\t({\n",
    "\t\t'one': False,\n",
    "\t\t'two': False,\n",
    "\t\t'three': False,\n",
    "\t\t'four': True,\n",
    "\t\t'five': True\n",
    "\t}, False),\n",
    "\t({\n",
    "\t\t'one': False,\n",
    "\t\t'two': True,\n",
    "\t\t'three': False,\n",
    "\t\t'four': False,\n",
    "\t\t'five': False\n",
    "\t}, True),\n",
    "\t({\n",
    "\t\t'one': True,\n",
    "\t\t'two': False,\n",
    "\t\t'three': False,\n",
    "\t\t'four': False,\n",
    "\t\t'five': True\n",
    "\t}, False)\n",
    "]\n",
    "```\n",
    "\n",
    "To help you in this step, watch the [following video](https://www.youtube.com/watch?v=-vVskDsHcVc) to learn how to build the feature set with Python and NLTK. The source code in this video can be found [here](https://pythonprogramming.net/words-as-features-nltk-tutorial/)."
   ]
  },
  {
   "cell_type": "markdown",
   "metadata": {},
   "source": [
    "[![Building Features](building-features.jpg)](https://www.youtube.com/watch?v=-vVskDsHcVc)"
   ]
  },
  {
   "cell_type": "code",
   "execution_count": 89,
   "metadata": {},
   "outputs": [],
   "source": [
    "# your code here\n",
    "def featuring(d):\n",
    "    words = d.lower()\n",
    "    features = {}\n",
    "    for w in mc: features[w] = w in words\n",
    "    return features\n",
    "\n",
    "feats = [(featuring(text), bool(y)) for text,y in zip(tweets.text, tweets.target)]"
   ]
  },
  {
   "cell_type": "code",
   "execution_count": null,
   "metadata": {},
   "outputs": [],
   "source": []
  },
  {
   "cell_type": "markdown",
   "metadata": {},
   "source": [
    "### Building and Traininng Naive Bayes Model\n",
    "\n",
    "In this step you will split your feature set into a training and a test set. Then you will create a Bayes classifier instance using `nltk.NaiveBayesClassifier.train` ([example](https://www.nltk.org/book/ch06.html)) to train with the training dataset.\n",
    "\n",
    "After training the model, call `classifier.show_most_informative_features()` to inspect the most important features. The output will look like:\n",
    "\n",
    "```\n",
    "Most Informative Features\n",
    "\t    snow = True            False : True   =     34.3 : 1.0\n",
    "\t  easter = True            False : True   =     26.2 : 1.0\n",
    "\t headach = True            False : True   =     20.9 : 1.0\n",
    "\t    argh = True            False : True   =     17.6 : 1.0\n",
    "\tunfortun = True            False : True   =     16.9 : 1.0\n",
    "\t    jona = True             True : False  =     16.2 : 1.0\n",
    "\t     ach = True            False : True   =     14.9 : 1.0\n",
    "\t     sad = True            False : True   =     13.0 : 1.0\n",
    "\t  parent = True            False : True   =     12.9 : 1.0\n",
    "\t  spring = True            False : True   =     12.7 : 1.0\n",
    "```\n",
    "\n",
    "The [following video](https://www.youtube.com/watch?v=rISOsUaTrO4) will help you complete this step. The source code in this video can be found [here](https://pythonprogramming.net/naive-bayes-classifier-nltk-tutorial/)."
   ]
  },
  {
   "cell_type": "markdown",
   "metadata": {},
   "source": [
    "[![Building and Training NB](nb-model-building.jpg)](https://www.youtube.com/watch?v=rISOsUaTrO4)"
   ]
  },
  {
   "cell_type": "code",
   "execution_count": 99,
   "metadata": {},
   "outputs": [],
   "source": [
    "train = feats[:16_000]\n",
    "test = feats[16_000:]"
   ]
  },
  {
   "cell_type": "code",
   "execution_count": 101,
   "metadata": {},
   "outputs": [],
   "source": [
    "clf = nltk.NaiveBayesClassifier.train(train)"
   ]
  },
  {
   "cell_type": "code",
   "execution_count": 102,
   "metadata": {},
   "outputs": [
    {
     "name": "stdout",
     "output_type": "stream",
     "text": [
      "Most Informative Features\n",
      "                unfortun = True            False : True   =     21.1 : 1.0\n",
      "                   upset = True            False : True   =     20.4 : 1.0\n",
      "                  welcom = True             True : False  =     18.9 : 1.0\n",
      "                   fever = True            False : True   =     17.1 : 1.0\n",
      "              disappoint = True            False : True   =     17.1 : 1.0\n",
      "                 headach = True            False : True   =     14.2 : 1.0\n",
      "                   refer = True             True : False  =     12.9 : 1.0\n",
      "                 appoint = True            False : True   =     11.9 : 1.0\n",
      "                 depress = True            False : True   =     11.7 : 1.0\n",
      "                     sad = True            False : True   =     10.4 : 1.0\n",
      "                  cancel = True            False : True   =      9.9 : 1.0\n",
      "                  throat = True            False : True   =      9.9 : 1.0\n",
      "                   shitt = True            False : True   =      9.0 : 1.0\n",
      "                 sunburn = True            False : True   =      9.0 : 1.0\n",
      "                 stomach = True            False : True   =      9.0 : 1.0\n",
      "                    sick = True            False : True   =      8.7 : 1.0\n",
      "                    pill = True            False : True   =      8.4 : 1.0\n",
      "                  prefer = True             True : False  =      8.3 : 1.0\n",
      "                 convers = True             True : False  =      8.3 : 1.0\n",
      "            followfriday = True             True : False  =      8.1 : 1.0\n",
      "                     sux = True            False : True   =      7.7 : 1.0\n",
      "                 migrain = True            False : True   =      7.7 : 1.0\n",
      "                    suck = True            False : True   =      7.3 : 1.0\n",
      "                    poor = True            False : True   =      7.0 : 1.0\n",
      "                     smh = True            False : True   =      7.0 : 1.0\n",
      "                   wasnt = True            False : True   =      7.0 : 1.0\n",
      "                    hurt = True            False : True   =      7.0 : 1.0\n",
      "                    weed = True             True : False  =      7.0 : 1.0\n",
      "                   shame = True            False : True   =      6.8 : 1.0\n",
      "                   worst = True            False : True   =      6.6 : 1.0\n",
      "                   delet = True            False : True   =      6.6 : 1.0\n",
      "                    ughh = True            False : True   =      6.6 : 1.0\n",
      "                   tweep = True             True : False  =      6.6 : 1.0\n",
      "                 trailer = True             True : False  =      6.6 : 1.0\n",
      "                    piss = True            False : True   =      6.5 : 1.0\n",
      "                   didnt = True            False : True   =      6.4 : 1.0\n",
      "                  bummer = True            False : True   =      6.4 : 1.0\n",
      "                    whoa = True             True : False  =      6.3 : 1.0\n",
      "                   thanx = True             True : False  =      6.3 : 1.0\n",
      "                   roman = True             True : False  =      6.3 : 1.0\n",
      "               goodnight = True             True : False  =      6.2 : 1.0\n",
      "                     grr = True            False : True   =      6.1 : 1.0\n",
      "                   cloud = True            False : True   =      5.8 : 1.0\n",
      "                   thank = True             True : False  =      5.8 : 1.0\n",
      "                 success = True             True : False  =      5.8 : 1.0\n",
      "               congratul = True             True : False  =      5.8 : 1.0\n",
      "                   tempt = True             True : False  =      5.8 : 1.0\n",
      "                   entir = True            False : True   =      5.7 : 1.0\n",
      "                  nowher = True            False : True   =      5.7 : 1.0\n",
      "                  regret = True            False : True   =      5.7 : 1.0\n"
     ]
    }
   ],
   "source": [
    "clf.show_most_informative_features(50)"
   ]
  },
  {
   "cell_type": "markdown",
   "metadata": {},
   "source": [
    "### Testing Naive Bayes Model\n",
    "\n",
    "Now we'll test our classifier with the test dataset. This is done by calling `nltk.classify.accuracy(classifier, test)`.\n",
    "\n",
    "As mentioned in one of the tutorial videos, a Naive Bayes model is considered OK if your accuracy score is over 0.6. If your accuracy score is over 0.7, you've done a great job!"
   ]
  },
  {
   "cell_type": "code",
   "execution_count": 103,
   "metadata": {},
   "outputs": [
    {
     "name": "stdout",
     "output_type": "stream",
     "text": [
      "70.675\n"
     ]
    }
   ],
   "source": [
    "# your code here\n",
    "print(nltk.classify.accuracy(clf, test)*100)"
   ]
  },
  {
   "cell_type": "markdown",
   "metadata": {},
   "source": [
    "## Bonus Question 1: Improve Model Performance\n",
    "\n",
    "If you are still not exhausted so far and want to dig deeper, try to improve your classifier performance. There are many aspects you can dig into, for example:\n",
    "\n",
    "* Improve stemming and lemmatization. Inspect your bag of words and the most important features. Are there any words you should furuther remove from analysis? You can append these words to further remove to the stop words list.\n",
    "\n",
    "* Remember we only used the top 5,000 features to build model? Try using different numbers of top features. The bottom line is to use as few features as you can without compromising your model performance. The fewer features you select into your model, the faster your model is trained. Then you can use a larger sample size to improve your model accuracy score."
   ]
  },
  {
   "cell_type": "code",
   "execution_count": null,
   "metadata": {},
   "outputs": [],
   "source": [
    "# your code here"
   ]
  },
  {
   "cell_type": "markdown",
   "metadata": {},
   "source": [
    "## Bonus Question 2: Machine Learning Pipeline\n",
    "\n",
    "In a new Jupyter Notebook, combine all your codes into a function (or a class). Your new function will execute the complete machine learning pipeline job by receiving the dataset location and output the classifier. This will allow you to use your function to predict the sentiment of any tweet in real time. "
   ]
  },
  {
   "cell_type": "code",
   "execution_count": null,
   "metadata": {},
   "outputs": [],
   "source": [
    "# your code here"
   ]
  },
  {
   "cell_type": "markdown",
   "metadata": {},
   "source": [
    "## Bonus Question 3: Apache Spark\n",
    "\n",
    "If you have completed the Apache Spark advanced topic lab, what you can do is to migrate your pipeline from local to a Databricks Notebook. Share your notebook with your instructor and classmates to show off your achievements!"
   ]
  },
  {
   "cell_type": "code",
   "execution_count": null,
   "metadata": {},
   "outputs": [],
   "source": [
    "# your code here"
   ]
  }
 ],
 "metadata": {
  "kernelspec": {
   "display_name": "Python 3",
   "language": "python",
   "name": "python3"
  },
  "language_info": {
   "codemirror_mode": {
    "name": "ipython",
    "version": 3
   },
   "file_extension": ".py",
   "mimetype": "text/x-python",
   "name": "python",
   "nbconvert_exporter": "python",
   "pygments_lexer": "ipython3",
   "version": "3.7.6"
  }
 },
 "nbformat": 4,
 "nbformat_minor": 4
}
